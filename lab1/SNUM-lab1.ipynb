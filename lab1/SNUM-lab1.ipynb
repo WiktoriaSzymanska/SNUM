{
 "cells": [
  {
   "cell_type": "markdown",
   "metadata": {},
   "source": [
    "# Drzewo decyzyjne\n",
    "\n",
    "Wiktoria Szymańska 140790, Wiktor Szymański "
   ]
  },
  {
   "cell_type": "code",
   "execution_count": 2,
   "metadata": {},
   "outputs": [],
   "source": [
    "import math"
   ]
  },
  {
   "cell_type": "code",
   "execution_count": 85,
   "metadata": {},
   "outputs": [],
   "source": [
    "def entropy(p_list):\n",
    "    if isinstance(p_list, dict):  # jeżeli rozkład prawdopodobieństwa jako słownik a nie lista\n",
    "        p_list = list(p_list.values())\n",
    "    \n",
    "    e = 0\n",
    "    for p in p_list:\n",
    "        if p:\n",
    "            e -= p * math.log2(p)\n",
    "    return e\n",
    "\n",
    "\n",
    "def cond_entropy(p_list, e_list):\n",
    "    c_e = 0\n",
    "    for i in range(len(p_list)):\n",
    "        if p_list[i]:\n",
    "            c_e += p_list[i] * e_list[i]\n",
    "    return c_e\n",
    "\n",
    "\n",
    "def gain(e, c_e):\n",
    "    return e - c_e\n",
    "\n",
    "\n",
    "def gain_ratio(p_list, gain):\n",
    "    intr_info = entropy(p_list)\n",
    "    return gain / intr_info\n",
    "\n",
    "\n"
   ]
  },
  {
   "cell_type": "code",
   "execution_count": 86,
   "metadata": {},
   "outputs": [
    {
     "name": "stdout",
     "output_type": "stream",
     "text": [
      "0.18177168528755464\n"
     ]
    }
   ],
   "source": [
    "e_list = [0,1,0.918]\n",
    "p_list = [2/10,2/10,6/10]\n",
    "c_e = cond_entropy(p_list,e_list)\n",
    "gain = gain(1, 0.7508)\n",
    "g_r = gain_ratio(p_list, gain)\n",
    "print(g_r)"
   ]
  },
  {
   "cell_type": "code",
   "execution_count": 87,
   "metadata": {},
   "outputs": [
    {
     "name": "stdout",
     "output_type": "stream",
     "text": [
      "100 records\n",
      "[{'pclass': '3', 'sex': 'male', 'age': '22', 'sibsp': '1', 'parch': '0', 'survived': '0'}, {'pclass': '1', 'sex': 'female', 'age': '38', 'sibsp': '1', 'parch': '0', 'survived': '1'}, {'pclass': '3', 'sex': 'female', 'age': '26', 'sibsp': '0', 'parch': '0', 'survived': '1'}, {'pclass': '1', 'sex': 'female', 'age': '35', 'sibsp': '1', 'parch': '0', 'survived': '1'}, {'pclass': '3', 'sex': 'male', 'age': '35', 'sibsp': '0', 'parch': '0', 'survived': '0'}]\n",
      "22\n"
     ]
    }
   ],
   "source": [
    "import csv\n",
    "\n",
    "data = []\n",
    "\n",
    "with open('titanic-homework.csv') as csv_file:\n",
    "    csv_reader = csv.DictReader(csv_file)\n",
    "    for row in csv_reader:\n",
    "        data.append({\n",
    "#             'pid': row['PassengerId'],\n",
    "            'pclass': row['Pclass'],\n",
    "            'sex': row['Sex'],\n",
    "            'age': row['Age'],\n",
    "            'sibsp': row['SibSp'],\n",
    "            'parch': row['Parch'],\n",
    "            'survived': row['Survived']\n",
    "        })\n",
    "\n",
    "print(len(data), \"records\")\n",
    "print(data[:5])\n",
    "print(data[0]['age'])"
   ]
  },
  {
   "cell_type": "code",
   "execution_count": 88,
   "metadata": {},
   "outputs": [],
   "source": [
    "for x in data:\n",
    "    if x['age'] not in ['young', 'middle', 'old']:\n",
    "        if int(x['age']) <= 20:\n",
    "            x['age'] = 'young'\n",
    "        elif int(x['age']) > 40:\n",
    "            x['age'] = 'old'\n",
    "        else:\n",
    "            x['age'] = 'middle'"
   ]
  },
  {
   "cell_type": "code",
   "execution_count": 91,
   "metadata": {},
   "outputs": [
    {
     "name": "stdout",
     "output_type": "stream",
     "text": [
      "Rozkład prawdopodobieństwa całego zbioru: {'0': 0.4, '1': 0.6}\n",
      "Entropia: 0.9709505944546686\n"
     ]
    }
   ],
   "source": [
    "# rozkład prawdobodobieństwa dla całego zbioru\n",
    "def probability(data, decision):\n",
    "    p = {}\n",
    "    total = 0\n",
    "    for case in data:\n",
    "        total += 1\n",
    "        if case[decision] not in p:\n",
    "            p[case[decision]] = 1\n",
    "        else:\n",
    "            p[case[decision]] += 1\n",
    "    for dclass in p:\n",
    "        p[dclass] = p[dclass] / total\n",
    "    return p\n",
    "\n",
    "p = probability(data[:5], 'survived')\n",
    "print(\"Rozkład prawdopodobieństwa całego zbioru:\", p)\n",
    "print(\"Entropia:\", entropy(p))"
   ]
  },
  {
   "cell_type": "code",
   "execution_count": null,
   "metadata": {},
   "outputs": [],
   "source": []
  }
 ],
 "metadata": {
  "kernelspec": {
   "display_name": "Python 3",
   "language": "python",
   "name": "python3"
  },
  "language_info": {
   "codemirror_mode": {
    "name": "ipython",
    "version": 3
   },
   "file_extension": ".py",
   "mimetype": "text/x-python",
   "name": "python",
   "nbconvert_exporter": "python",
   "pygments_lexer": "ipython3",
   "version": "3.8.5"
  }
 },
 "nbformat": 4,
 "nbformat_minor": 4
}
